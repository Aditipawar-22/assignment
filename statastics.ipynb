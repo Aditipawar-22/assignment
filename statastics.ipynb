{
 "cells": [
  {
   "cell_type": "code",
   "execution_count": null,
   "id": "77001f32-cdfb-45ab-b96b-52ddf8e97324",
   "metadata": {},
   "outputs": [],
   "source": [
    "#Q1. What is the Probability density function?\n",
    "\n",
    "'''A function that defines the relationship between a random variable and its probability, such that you can find \n",
    "the probability of the variable using the function, is called a Probability Density Function (PDF) in statistics.\n",
    "\n",
    "\n"
   ]
  },
  {
   "cell_type": "code",
   "execution_count": null,
   "id": "a2e79911-0487-45f0-94bd-acafab704ff4",
   "metadata": {},
   "outputs": [],
   "source": [
    "#Q2. What are the types of Probability distribution?\n",
    "\n",
    "'''There are two types of probability distributions: Discrete probability distributions. \n",
    "                                                     Continuous probability distributions."
   ]
  },
  {
   "cell_type": "code",
   "execution_count": null,
   "id": "8f55b56c-fae9-4dc1-ab07-b04a8f9c63b2",
   "metadata": {},
   "outputs": [],
   "source": [
    "#Q3. Write a Python function to calculate the probability density function of a normal distribution with\n",
    "#given mean and standard deviation at a given point.\n",
    "\n",
    "import math\n",
    "\n",
    "def normal_pdf(x, mean, std_dev):\n",
    "    \n",
    "    coefficient = 1 / (std_dev * math.sqrt(2 * math.pi))\n",
    "    exponent = -((x - mean)**2) / (2 * std_dev**2)\n",
    "    pdf_value = coefficient * math.exp(exponent)\n",
    "    return pdf_value"
   ]
  },
  {
   "cell_type": "code",
   "execution_count": null,
   "id": "d0160779-4b78-4be6-b8a6-2ea5aede5fc7",
   "metadata": {},
   "outputs": [],
   "source": [
    "#Q4. What are the properties of Binomial distribution? Give two examples of events where binomial\n",
    "#distribution can be applied.\n",
    "\n",
    "'''Binomial distribution is applicable when the trials are independent and each trial has just two outcomes\n",
    "success and failure. It is applied in coin tossing experiments, sampling inspection plan"
   ]
  },
  {
   "cell_type": "code",
   "execution_count": 1,
   "id": "a9f062aa-2ab9-4c16-8530-2ee291ebde1d",
   "metadata": {},
   "outputs": [
    {
     "data": {
      "image/png": "[encoded data removed]",
      "text/plain": [
       "<Figure size 640x480 with 1 Axes>"
      ]
     },
     "metadata": {},
     "output_type": "display_data"
    }
   ],
   "source": [
    "#Q5. Generate a random sample of size 1000 from a binomial distribution with probability of success 0.4\n",
    "#and plot a histogram of the results using matplotlib.\n",
    "\n",
    "\n",
    "import numpy as np\n",
    "import matplotlib.pyplot as plt\n",
    "\n",
    "sample_size = 1000\n",
    "probability_of_success = 0.4\n",
    "\n",
    "\n",
    "random_sample = np.random.binomial(1, probability_of_success, size=sample_size)\n",
    "\n",
    "plt.hist(random_sample, bins=2, edgecolor='black')\n",
    "plt.xlabel('Outcome')\n",
    "plt.ylabel('Frequency')\n",
    "plt.title('Histogram of Random Sample from Binomial Distribution')\n",
    "plt.xticks([0, 1], ['Failure', 'Success'])\n",
    "plt.show()\n",
    "\n"
   ]
  },
  {
   "cell_type": "code",
   "execution_count": 3,
   "id": "7751a7bf-205f-4472-97f3-278f7364bf1b",
   "metadata": {},
   "outputs": [
    {
     "name": "stdout",
     "output_type": "stream",
     "text": [
      "CDF at x = 2: 0.3208471988621341\n"
     ]
    }
   ],
   "source": [
    "#Q6. Write a Python function to calculate the cumulative distribution function of a Poisson distribution\n",
    "#with given mean at a given point.\n",
    "\n",
    "import math\n",
    "\n",
    "def poisson_cdf(x, mean):\n",
    "   \n",
    "    cdf_value = 0.0\n",
    "    for k in range(x + 1):\n",
    "        cdf_value += (math.exp(-mean) * mean ** k) / math.factorial(k)\n",
    "    return cdf_value\n",
    "\n",
    "# Example usage\n",
    "mean = 3.5\n",
    "x_value = 2\n",
    "cdf_at_x = poisson_cdf(x_value, mean)\n",
    "print(f\"CDF at x = {x_value}: {cdf_at_x}\")"
   ]
  },
  {
   "cell_type": "code",
   "execution_count": 4,
   "id": "29fb8cf3-761f-46e2-adf2-1049041e1c7c",
   "metadata": {},
   "outputs": [
    {
     "name": "stdout",
     "output_type": "stream",
     "text": [
      "Sample mean: 4.94\n",
      "Sample variance: 5.126399999999999\n"
     ]
    }
   ],
   "source": [
    "#Q8. Generate a random sample of size 1000 from a Poisson distribution with mean 5 and calculate the\n",
    "#sample mean and variance.\n",
    "\n",
    "\n",
    "import numpy as np\n",
    "\n",
    "sample_size = 1000\n",
    "mean = 5\n",
    "\n",
    "random_sample = np.random.poisson(mean, size=sample_size)\n",
    "\n",
    "sample_mean = np.mean(random_sample)\n",
    "sample_variance = np.var(random_sample)\n",
    "\n",
    "print(f\"Sample mean: {sample_mean}\")\n",
    "print(f\"Sample variance: {sample_variance}\")\n"
   ]
  },
  {
   "cell_type": "code",
   "execution_count": null,
   "id": "b8d51ec0-de68-401f-9859-ace30a6bd633",
   "metadata": {},
   "outputs": [],
   "source": [
    "#Q9. How mean and variance are related in Binomial distribution and Poisson distribution?\n",
    "\n",
    "'''Both the mean and variance play important roles in describing the characteristics of a probability distribution.\n",
    "In both the Binomial distribution and the Poisson distribution, the mean and variance have specific relationships \n",
    "that help characterize these distributions.\n",
    "\n",
    "For a Binomial distribution with parameters n (number of trials) and p (probability of success in each trial), \n",
    "the mean (μ) and variance as \n",
    "Mean (μ) = np\n",
    "Variance =  1−np(1−p)\n",
    "\n",
    "For a Poisson distribution with parameter λ (mean rate of occurrence), the mean (μ) and variance\n",
    "are related as follows:\n",
    "Mean = \n",
    "Variance = Mean (\n",
    "�\n",
    "μ) = \n",
    "�\n",
    "λ"
   ]
  }
 ],
 "metadata": {
  "kernelspec": {
   "display_name": "Python 3 (ipykernel)",
   "language": "python",
   "name": "python3"
  },
  "language_info": {
   "codemirror_mode": {
    "name": "ipython",
    "version": 3
   },
   "file_extension": ".py",
   "mimetype": "text/x-python",
   "name": "python",
   "nbconvert_exporter": "python",
   "pygments_lexer": "ipython3",
   "version": "3.10.8"
  }
 },
 "nbformat": 4,
 "nbformat_minor": 5
}
