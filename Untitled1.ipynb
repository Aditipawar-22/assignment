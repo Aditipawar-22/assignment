{
 "cells": [
  {
   "cell_type": "code",
   "execution_count": 12,
   "id": "23b239aa-2105-43f1-8396-06ffda9e4d7f",
   "metadata": {},
   "outputs": [],
   "source": [
    "import pandas as pd"
   ]
  },
  {
   "cell_type": "code",
   "execution_count": 15,
   "id": "8e7c5df5-ed1c-48f7-8338-73921ce2b4cf",
   "metadata": {},
   "outputs": [
    {
     "name": "stdout",
     "output_type": "stream",
     "text": [
      "Requirement already satisfied: pandas in /opt/conda/lib/python3.10/site-packages (1.5.2)\n",
      "Requirement already satisfied: python-dateutil>=2.8.1 in /opt/conda/lib/python3.10/site-packages (from pandas) (2.8.2)\n",
      "Requirement already satisfied: pytz>=2020.1 in /opt/conda/lib/python3.10/site-packages (from pandas) (2022.6)\n",
      "Requirement already satisfied: numpy>=1.21.0 in /opt/conda/lib/python3.10/site-packages (from pandas) (1.23.5)\n",
      "Requirement already satisfied: six>=1.5 in /opt/conda/lib/python3.10/site-packages (from python-dateutil>=2.8.1->pandas) (1.16.0)\n",
      "Note: you may need to restart the kernel to use updated packages.\n"
     ]
    }
   ],
   "source": [
    "pip install pandas"
   ]
  },
  {
   "cell_type": "code",
   "execution_count": 21,
   "id": "7e8b3177-b0ee-4c3a-9a34-83633e955920",
   "metadata": {},
   "outputs": [
    {
     "name": "stdout",
     "output_type": "stream",
     "text": [
      "0     4\n",
      "1     8\n",
      "2    15\n",
      "3    16\n",
      "4    23\n",
      "5    42\n",
      "dtype: string\n"
     ]
    }
   ],
   "source": [
    "#Q1. Create a Pandas Series that contains the following data: 4, 8, 15, 16, 23, and 42. Then, print the series.\n",
    "data = pd.array(['4', '8', '15', '16', '23', '42'])\n",
    " \n",
    "ser = pd.Series(data)\n",
    "print(ser)"
   ]
  },
  {
   "cell_type": "code",
   "execution_count": 26,
   "id": "657c5770-7a62-4585-a0c3-edd94ed3791d",
   "metadata": {},
   "outputs": [
    {
     "name": "stdout",
     "output_type": "stream",
     "text": [
      "0    0\n",
      "1    1\n",
      "2    2\n",
      "3    3\n",
      "4    4\n",
      "5    5\n",
      "6    6\n",
      "7    7\n",
      "8    8\n",
      "9    9\n",
      "dtype: int64\n"
     ]
    }
   ],
   "source": [
    "#Q2. Create a variable of list type containing 10 elements in it, and apply pandas.Series function on the\n",
    "#variable print it.\n",
    "\n",
    "\n",
    "l = [0,1,2,3,4,5,6,7,8,9]\n",
    "\n",
    "ser = pd.Series(l)\n",
    "print(ser)\n"
   ]
  },
  {
   "cell_type": "code",
   "execution_count": 27,
   "id": "5ef7fd38-97d6-417a-afbf-1e1f26e940c9",
   "metadata": {},
   "outputs": [
    {
     "name": "stdout",
     "output_type": "stream",
     "text": [
      "     Name Age  Gender\n",
      "0   Alice  25  Female\n",
      "1     Bob  30    Male\n",
      "2  Claire  27  Female\n"
     ]
    }
   ],
   "source": [
    "#Q3. Create a Pandas DataFrame that contains the following data:\n",
    "\n",
    "dataFrame = {'Name' : ['Alice','Bob','Claire'] ,'Age' :['25','30','27'],'Gender':['Female','Male','Female'] }\n",
    "df = pd.DataFrame(dataFrame)\n",
    "print(df)\n"
   ]
  },
  {
   "cell_type": "code",
   "execution_count": null,
   "id": "99ca6b86-6e65-4ddf-b85b-3bbc59d85c95",
   "metadata": {},
   "outputs": [],
   "source": [
    "#Q4. What is ‘DataFrame’ in pandas and how is it different from pandas.series? Explain with an example.\n",
    "\n",
    "#DataFrame is a 2-dimensional labeled data structure with columns of potentially different types. You can think of \n",
    "#it like a spreadsheet or SQL table, or a dict of Series objects. It is generally the most commonly used pandas \n",
    "#object.\n",
    "#1)Series are 1-D, whereas Dataframe are 2-D. 2)Series consists of homogeneous data, whereas dataframe consists of\n",
    "#heterogeneous data. 3)series are value mutable whereas dataframe are not.\n"
   ]
  },
  {
   "cell_type": "code",
   "execution_count": null,
   "id": "7b6f9bbf-3f30-4f22-8e44-92b4ee9810ba",
   "metadata": {},
   "outputs": [],
   "source": [
    "'''Q6. Which of the following is mutable in nature Series, DataFrame, Panel?\n",
    "\n",
    "--> Series are mutable in nature'''"
   ]
  },
  {
   "cell_type": "code",
   "execution_count": 29,
   "id": "7d21b1ee-1945-47d4-ac1c-6f46a19f38d5",
   "metadata": {},
   "outputs": [
    {
     "name": "stdout",
     "output_type": "stream",
     "text": [
      "0        Sona\n",
      "1        Mona\n",
      "2        Dora\n",
      "3      Minkey\n",
      "0          fy\n",
      "1          sy\n",
      "2          ty\n",
      "3       final\n",
      "0     21CSE21\n",
      "1    21UAI062\n",
      "2    21CSE063\n",
      "3    21UAD065\n",
      "dtype: object\n"
     ]
    }
   ],
   "source": [
    "#Q7. Create a DataFrame using multiple Series. Explain with an example.\n",
    "\n",
    "import pandas as pd\n",
    "\n",
    "name = pd.Series([\"Sona\",\"Mona\",\"Dora\",\"Minkey\"])\n",
    "classes = pd.Series(['fy','sy','ty','final'])\n",
    "prn  = pd.Series(['21CSE21','21UAI062','21CSE063','21UAD065'])\n",
    "\n",
    "df=pd.concat([name,classes,prn],axis)\n",
    "print(df)"
   ]
  },
  {
   "cell_type": "code",
   "execution_count": null,
   "id": "c4537a16-08ca-4d2c-a1cb-1f17106d362e",
   "metadata": {},
   "outputs": [],
   "source": []
  }
 ],
 "metadata": {
  "kernelspec": {
   "display_name": "Python 3 (ipykernel)",
   "language": "python",
   "name": "python3"
  },
  "language_info": {
   "codemirror_mode": {
    "name": "ipython",
    "version": 3
   },
   "file_extension": ".py",
   "mimetype": "text/x-python",
   "name": "python",
   "nbconvert_exporter": "python",
   "pygments_lexer": "ipython3",
   "version": "3.10.8"
  }
 },
 "nbformat": 4,
 "nbformat_minor": 5
}
