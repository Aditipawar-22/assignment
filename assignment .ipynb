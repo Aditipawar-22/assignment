{
 "cells": [
  {
   "cell_type": "code",
   "execution_count": 1,
   "id": "2ea90079-94aa-444c-b85c-b69f65e3bafb",
   "metadata": {},
   "outputs": [],
   "source": [
    "a = \"aditi\"\n",
    "l = [1,2,3,4,'a','b',\"cat\",\"apple\"]\n",
    "f = 23.45\n",
    "t =(\"cat\",\"mat\",\"rat\")"
   ]
  },
  {
   "cell_type": "code",
   "execution_count": 3,
   "id": "03c9f305-f7b4-4325-9bc1-6c4d91165ef1",
   "metadata": {},
   "outputs": [],
   "source": [
    "var1 = ' '\n",
    "var2 = '[ DS , ML , Python]'\n",
    "var3 = [ 'DS' , 'ML' , 'Python' ]\n",
    "var4 = 1."
   ]
  },
  {
   "cell_type": "code",
   "execution_count": 4,
   "id": "ab1f6672-68ad-4e49-b7f5-20a1941eebd7",
   "metadata": {},
   "outputs": [
    {
     "name": "stdout",
     "output_type": "stream",
     "text": [
      "<class 'str'>\n",
      "<class 'str'>\n",
      "<class 'list'>\n",
      "<class 'float'>\n"
     ]
    }
   ],
   "source": [
    "print(type(var1))\n",
    "print(type(var2))\n",
    "print(type(var3))\n",
    "print(type(var4))"
   ]
  },
  {
   "cell_type": "code",
   "execution_count": 5,
   "id": "181bead8-c1e5-4635-871f-f4f894c6a91c",
   "metadata": {},
   "outputs": [
    {
     "name": "stdin",
     "output_type": "stream",
     "text": [
      " 10\n",
      " 5\n"
     ]
    },
    {
     "name": "stdout",
     "output_type": "stream",
     "text": [
      "2.0\n",
      "0\n",
      "2\n",
      "100000\n"
     ]
    }
   ],
   "source": [
    "a = int(input())\n",
    "b = int(input())\n",
    "print(a/b)\n",
    "print(a%b)\n",
    "print(a//b)\n",
    "print(a**b)"
   ]
  },
  {
   "cell_type": "code",
   "execution_count": 6,
   "id": "a288677d-049e-4893-b9fb-2b2d06b858cb",
   "metadata": {},
   "outputs": [
    {
     "name": "stdout",
     "output_type": "stream",
     "text": [
      "1\n",
      "<class 'int'>\n",
      "2\n",
      "<class 'int'>\n",
      "3\n",
      "<class 'int'>\n",
      "4\n",
      "<class 'int'>\n",
      "8.5\n",
      "<class 'float'>\n",
      "aditi\n",
      "<class 'str'>\n",
      "a\n",
      "<class 'str'>\n",
      "pwskills\n",
      "<class 'str'>\n",
      "9\n",
      "<class 'int'>\n",
      "10\n",
      "<class 'int'>\n"
     ]
    }
   ],
   "source": [
    "k = [1,2,3,4,8.5,\"aditi\",'a',\"pwskills\",9,10]\n",
    "for i in k:\n",
    "    print(i)\n",
    "    print(type(i))"
   ]
  },
  {
   "cell_type": "code",
   "execution_count": 7,
   "id": "b59f5cf6-7158-4597-93a1-b4a966f6ba2b",
   "metadata": {},
   "outputs": [
    {
     "name": "stdin",
     "output_type": "stream",
     "text": [
      " 10\n",
      " 5\n"
     ]
    },
    {
     "name": "stdout",
     "output_type": "stream",
     "text": [
      "\n",
      " a is purely divisible by b \n",
      "1\n"
     ]
    }
   ],
   "source": [
    "a = int(input())\n",
    "b = int(input())\n",
    "count = 0\n",
    "if a%b==0:\n",
    "    print(\"\\n a is purely divisible by b \")\n",
    "    while a%b==0:\n",
    "        count=count+1\n",
    "        a=a//b\n",
    "print(count)\n",
    "        "
   ]
  },
  {
   "cell_type": "code",
   "execution_count": null,
   "id": "fdf85103-6951-43a3-9e98-5966671b6685",
   "metadata": {},
   "outputs": [
    {
     "name": "stdout",
     "output_type": "stream",
     "text": [
      "\n",
      " It is divisible by 3\n",
      "\n",
      " It is divisible by 3\n",
      "\n",
      " It is divisible by 3\n",
      "\n",
      " It is divisible by 3\n",
      "\n",
      " It is divisible by 3\n",
      "\n",
      " It is divisible by 3\n",
      "\n",
      " It is divisible by 3\n",
      "\n",
      " It is divisible by 3\n",
      "\n",
      " It is divisible by 3\n",
      "\n",
      " It is divisible by 3\n",
      "\n",
      " It is not divisible by 3\n",
      "\n",
      " It is divisible by 3\n",
      "\n",
      " It is not divisible by 3\n",
      "\n",
      " It is divisible by 3\n",
      "\n",
      " It is not divisible by 3\n",
      "\n",
      " It is not divisible by 3\n",
      "\n",
      " It is not divisible by 3\n",
      "\n",
      " It is divisible by 3\n",
      "\n",
      " It is not divisible by 3\n",
      "\n",
      " It is divisible by 3\n",
      "\n",
      " It is not divisible by 3\n",
      "\n",
      " It is not divisible by 3\n",
      "\n",
      " It is not divisible by 3\n",
      "\n",
      " It is divisible by 3\n",
      "\n",
      " It is divisible by 3\n"
     ]
    }
   ],
   "source": [
    "k = [3,6,9,12,15,18,21,24,27,30,32,33,34,36,38,40,49,90,98,99,100,112,115,120,126]\n",
    "for i in k:\n",
    "    if i%3==0:\n",
    "        print(\"\\n It is divisible by 3\")\n",
    "    else:\n",
    "        print(\"\\n It is not divisible by 3\")"
   ]
  },
  {
   "cell_type": "code",
   "execution_count": 9,
   "id": "7a31f14a-af0a-417c-b10c-ee0cecd279c8",
   "metadata": {},
   "outputs": [],
   "source": [
    "# Mutable : Changes can be possible\n",
    "#Immutable : changes are not possbile\n",
    "l = [1,2,\"aditi\",'p','k']\n",
    "l[2]=\"pawar\""
   ]
  },
  {
   "cell_type": "code",
   "execution_count": 10,
   "id": "d5240e19-52f2-4ada-9424-97a0d36af6f4",
   "metadata": {},
   "outputs": [
    {
     "data": {
      "text/plain": [
       "[1, 2, 'pawar', 'p', 'k']"
      ]
     },
     "execution_count": 10,
     "metadata": {},
     "output_type": "execute_result"
    }
   ],
   "source": [
    "l"
   ]
  },
  {
   "cell_type": "code",
   "execution_count": 11,
   "id": "d2db124c-7fcb-4bfd-8b4e-3a8605ec2d24",
   "metadata": {},
   "outputs": [
    {
     "ename": "TypeError",
     "evalue": "'str' object does not support item assignment",
     "output_type": "error",
     "traceback": [
      "\u001b[0;31m---------------------------------------------------------------------------\u001b[0m",
      "\u001b[0;31mTypeError\u001b[0m                                 Traceback (most recent call last)",
      "Cell \u001b[0;32mIn[11], line 2\u001b[0m\n\u001b[1;32m      1\u001b[0m t \u001b[38;5;241m=\u001b[39m \u001b[38;5;124m\"\u001b[39m\u001b[38;5;124mtower\u001b[39m\u001b[38;5;124m\"\u001b[39m\n\u001b[0;32m----> 2\u001b[0m \u001b[43mt\u001b[49m\u001b[43m[\u001b[49m\u001b[38;5;241;43m0\u001b[39;49m\u001b[43m]\u001b[49m\u001b[38;5;241m=\u001b[39mk\n",
      "\u001b[0;31mTypeError\u001b[0m: 'str' object does not support item assignment"
     ]
    }
   ],
   "source": [
    "t = \"tower\"\n",
    "t[0]=k"
   ]
  },
  {
   "cell_type": "code",
   "execution_count": null,
   "id": "76247120-9424-4fc8-af91-1458677082b5",
   "metadata": {},
   "outputs": [],
   "source": []
  }
 ],
 "metadata": {
  "kernelspec": {
   "display_name": "Python 3 (ipykernel)",
   "language": "python",
   "name": "python3"
  },
  "language_info": {
   "codemirror_mode": {
    "name": "ipython",
    "version": 3
   },
   "file_extension": ".py",
   "mimetype": "text/x-python",
   "name": "python",
   "nbconvert_exporter": "python",
   "pygments_lexer": "ipython3",
   "version": "3.10.8"
  }
 },
 "nbformat": 4,
 "nbformat_minor": 5
}
