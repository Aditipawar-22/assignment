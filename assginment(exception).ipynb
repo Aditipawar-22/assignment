{
 "cells": [
  {
   "cell_type": "code",
   "execution_count": null,
   "id": "cf27c41b-76ba-4b7f-aa42-6843e7cf7b27",
   "metadata": {},
   "outputs": [],
   "source": [
    "#Q1. What is an Exeption in pthon? Write the differen,beetween Exeptionsand syntax errors"
   ]
  },
  {
   "cell_type": "code",
   "execution_count": null,
   "id": "65b67d42-698b-4d3b-b76d-bacacab10c73",
   "metadata": {},
   "outputs": [],
   "source": [
    "'''An exception in Python is an event that occurs during the execution of a program, which disrupts the normal\n",
    "flow of the program's instructions. When an exception occurs, the program stops executing its current\n",
    "instructions and jumps to a special code block called an exception handler, which can handle the exceptional \n",
    "situation.\n",
    "\n",
    "Exceptions: Exceptions are raised during the runtime of a program when an error or exceptional condition occurs.\n",
    "They can be handled by using try-except blocks to catch and handle specific types of exceptions.\n",
    "Exceptions allow for graceful handling of errors and provide a way to recover from exceptional situations.\n",
    "\n",
    "Syntax Errors: Syntax errors, also known as parsing errors, occur when the Python interpreter encounters \n",
    "incorrect syntax in the code. These errors prevent the code from being parsed and executed. Syntax errors \n",
    "need to be fixed before the program can run successfully. Examples of syntax errors include misspelled keywords\n",
    ", missing colons, incorrect indentation, etc\n"
   ]
  },
  {
   "cell_type": "code",
   "execution_count": null,
   "id": "daad20de-53c7-42ca-837d-d5853d597c2a",
   "metadata": {},
   "outputs": [],
   "source": [
    "#What happens when an exeption is not handled? Explain with an example"
   ]
  },
  {
   "cell_type": "code",
   "execution_count": null,
   "id": "cc8b3e2c-5e41-475b-ac05-e00ab2b245a1",
   "metadata": {},
   "outputs": [],
   "source": [
    "'''When an exception is not handled in Python, it results in the termination of the program and an error message \n",
    "is displayed, indicating the type of exception that occurred and a traceback of the code execution leading up\n",
    "to the exception. This is known as an unhandled exception or an uncaught exception.\n",
    "\n",
    "Here's an example to illustrate what happens when an exception is not handled:"
   ]
  },
  {
   "cell_type": "code",
   "execution_count": 1,
   "id": "a62b972b-c6f8-4218-9435-cc6e7d9e9cf9",
   "metadata": {},
   "outputs": [
    {
     "ename": "ZeroDivisionError",
     "evalue": "division by zero",
     "output_type": "error",
     "traceback": [
      "\u001b[0;31m---------------------------------------------------------------------------\u001b[0m",
      "\u001b[0;31mZeroDivisionError\u001b[0m                         Traceback (most recent call last)",
      "Cell \u001b[0;32mIn[1], line 7\u001b[0m\n\u001b[1;32m      4\u001b[0m num1 \u001b[38;5;241m=\u001b[39m \u001b[38;5;241m10\u001b[39m\n\u001b[1;32m      5\u001b[0m num2 \u001b[38;5;241m=\u001b[39m \u001b[38;5;241m0\u001b[39m\n\u001b[0;32m----> 7\u001b[0m result \u001b[38;5;241m=\u001b[39m \u001b[43mdivide\u001b[49m\u001b[43m(\u001b[49m\u001b[43mnum1\u001b[49m\u001b[43m,\u001b[49m\u001b[43m \u001b[49m\u001b[43mnum2\u001b[49m\u001b[43m)\u001b[49m\n\u001b[1;32m      8\u001b[0m \u001b[38;5;28mprint\u001b[39m(\u001b[38;5;124m\"\u001b[39m\u001b[38;5;124mResult:\u001b[39m\u001b[38;5;124m\"\u001b[39m, result)\n",
      "Cell \u001b[0;32mIn[1], line 2\u001b[0m, in \u001b[0;36mdivide\u001b[0;34m(a, b)\u001b[0m\n\u001b[1;32m      1\u001b[0m \u001b[38;5;28;01mdef\u001b[39;00m \u001b[38;5;21mdivide\u001b[39m(a, b):\n\u001b[0;32m----> 2\u001b[0m     \u001b[38;5;28;01mreturn\u001b[39;00m \u001b[43ma\u001b[49m\u001b[43m \u001b[49m\u001b[38;5;241;43m/\u001b[39;49m\u001b[43m \u001b[49m\u001b[43mb\u001b[49m\n",
      "\u001b[0;31mZeroDivisionError\u001b[0m: division by zero"
     ]
    }
   ],
   "source": [
    "def divide(a, b):\n",
    "    return a / b\n",
    "\n",
    "num1 = 10\n",
    "num2 = 0\n",
    "\n",
    "result = divide(num1, num2)\n",
    "print(\"Result:\", result)"
   ]
  },
  {
   "cell_type": "code",
   "execution_count": null,
   "id": "acff89f6-5879-4c45-91a1-b4ae6ed78de4",
   "metadata": {},
   "outputs": [],
   "source": [
    "#Which Python statements are used to catch & handle exeptions? Explain with an example"
   ]
  },
  {
   "cell_type": "code",
   "execution_count": null,
   "id": "64c8668b-1342-4a19-8676-b4d071e1a732",
   "metadata": {},
   "outputs": [],
   "source": [
    "'''try and except statements are used to catch and handle the exception try block contains the block of code\n",
    "that may be raised an error while except block contains the block of code that handles the error'''"
   ]
  },
  {
   "cell_type": "code",
   "execution_count": null,
   "id": "0b67e16f-aef8-4cbf-9149-06cdd96fa7df",
   "metadata": {},
   "outputs": [],
   "source": [
    "def divide(a, b):\n",
    "    try:\n",
    "        result = a / b\n",
    "        print(\"Division result:\", result)\n",
    "    except ZeroDivisionError:\n",
    "        print(\"Error: Division by zero is not allowed!\")\n",
    "\n",
    "num1 = 10\n",
    "num2 = 0\n",
    "\n",
    "divide(num1, num2)"
   ]
  },
  {
   "cell_type": "code",
   "execution_count": null,
   "id": "94eb3ffa-83bf-4bdc-aa42-635e600269fe",
   "metadata": {},
   "outputs": [],
   "source": [
    "#Explain with an example:\n",
    "#try and else"
   ]
  },
  {
   "cell_type": "code",
   "execution_count": 4,
   "id": "01f6652b-97f3-41cf-821d-1a92f3faa7a8",
   "metadata": {},
   "outputs": [
    {
     "name": "stdout",
     "output_type": "stream",
     "text": [
      "Hello\n"
     ]
    }
   ],
   "source": [
    "try :\n",
    "    num1 = 10\n",
    "    num2 = 20\n",
    "    num1/num2\n",
    "except Exception as e:\n",
    "    print(e)\n",
    "else:  \n",
    "    print(\"Hello\")"
   ]
  },
  {
   "cell_type": "code",
   "execution_count": null,
   "id": "6897d3d5-97c4-47c2-a234-b79e1727e83d",
   "metadata": {},
   "outputs": [],
   "source": [
    "#finally"
   ]
  },
  {
   "cell_type": "code",
   "execution_count": 5,
   "id": "7955b7ef-9995-4d53-b8f4-4ede159737e0",
   "metadata": {},
   "outputs": [
    {
     "name": "stdout",
     "output_type": "stream",
     "text": [
      "Division result: 5.0\n",
      "Division operation completed.\n"
     ]
    }
   ],
   "source": [
    "def divide(a, b):\n",
    "    try:\n",
    "        result = a / b\n",
    "    except ZeroDivisionError:\n",
    "        print(\"Error: Division by zero is not allowed!\")\n",
    "    else:\n",
    "        print(\"Division result:\", result)\n",
    "    finally:\n",
    "        print(\"Division operation completed.\")\n",
    "\n",
    "num1 = 10\n",
    "num2 = 2\n",
    "\n",
    "divide(num1, num2)"
   ]
  },
  {
   "cell_type": "code",
   "execution_count": null,
   "id": "aa052614-696c-4694-ada6-4c350877455b",
   "metadata": {},
   "outputs": [],
   "source": [
    "#raise"
   ]
  },
  {
   "cell_type": "code",
   "execution_count": 6,
   "id": "bf474809-e212-4446-a65a-18c9fa1c919b",
   "metadata": {},
   "outputs": [
    {
     "name": "stdout",
     "output_type": "stream",
     "text": [
      "Error: Age cannot be negative.\n"
     ]
    }
   ],
   "source": [
    "def validate_age(age):\n",
    "    if age < 0:\n",
    "        raise ValueError(\"Age cannot be negative.\")\n",
    "    elif age < 18:\n",
    "        raise ValueError(\"You must be at least 18 years old.\")\n",
    "    else:\n",
    "        print(\"Age is valid.\")\n",
    "\n",
    "try:\n",
    "    validate_age(-5)\n",
    "except ValueError as e:\n",
    "    print(\"Error:\", str(e))"
   ]
  },
  {
   "cell_type": "code",
   "execution_count": null,
   "id": "121536a4-5962-4393-9e06-c65edecdcf37",
   "metadata": {},
   "outputs": [],
   "source": [
    "class BankAccount:\n",
    "    def __init__(self, balance):\n",
    "        self.balance = balance\n",
    "\n",
    "    def withdraw(self, amount):\n",
    "        if amount > self.balance:\n",
    "            raise InsufficientFundsError(\"Insufficient funds in the account.\")\n",
    "        else:\n",
    "            self.balance -= amount\n",
    "            print(\"Withdrawal successful. Remaining balance:\", self.balance)\n",
    "\n",
    "account = BankAccount(1000)\n",
    "try:\n",
    "    account.withdraw(1500)\n",
    "except InsufficientFundsError as e:\n",
    "    print(\"Error:\", str(e))"
   ]
  },
  {
   "cell_type": "code",
   "execution_count": null,
   "id": "e2ff8b0f-ebe4-4617-a5fa-aa1a89366da3",
   "metadata": {},
   "outputs": [],
   "source": [
    "Q6. Create custom exception class,ls. Use this ,lss to handle an exception."
   ]
  },
  {
   "cell_type": "code",
   "execution_count": null,
   "id": "67747e8b-2165-4040-b250-b578e9bc68fe",
   "metadata": {},
   "outputs": [],
   "source": [
    "class InvalidInputError(Exception):\n",
    "    def __init__(self, input_value):\n",
    "        self.input_value = input_value\n",
    "        self.message = f\"Invalid input: {input_value}\"\n",
    "        super().__init__(self.message)\n",
    "\n",
    "def process_input(input_value):\n",
    "    if not isinstance(input_value, int):\n",
    "        raise InvalidInputError(input_value)\n",
    "    else:\n",
    "        print(\"Processing input:\", input_value)\n",
    "try:\n",
    "    user_input = \"abc\"\n",
    "    process_input(user_input)\n",
    "except InvalidInputError as e:\n",
    "    print(\"Error:\", str(e))\n"
   ]
  }
 ],
 "metadata": {
  "kernelspec": {
   "display_name": "Python 3 (ipykernel)",
   "language": "python",
   "name": "python3"
  },
  "language_info": {
   "codemirror_mode": {
    "name": "ipython",
    "version": 3
   },
   "file_extension": ".py",
   "mimetype": "text/x-python",
   "name": "python",
   "nbconvert_exporter": "python",
   "pygments_lexer": "ipython3",
   "version": "3.10.8"
  }
 },
 "nbformat": 4,
 "nbformat_minor": 5
}
