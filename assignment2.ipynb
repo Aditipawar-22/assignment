{
 "cells": [
  {
   "cell_type": "code",
   "execution_count": null,
   "id": "87154b79-b706-4590-8d29-e5850971104a",
   "metadata": {},
   "outputs": [],
   "source": [
    "\"\"\"using # symbol we can comment the code in the python\n",
    "single line comment , multi line comment are the types of the comment \n",
    "for the signle line comment we can use (#)\n",
    "for the multiline comment we can use (\"\"\"   \"\"\") \n",
    "we can use (''' ''') for the multiline comment\"\"\""
   ]
  },
  {
   "cell_type": "code",
   "execution_count": null,
   "id": "ab24e0ed-8aa1-4221-a10f-bb2b29b40102",
   "metadata": {},
   "outputs": [],
   "source": [
    "variables in python :\n",
    "    int, str,float, list, set, dict\n",
    "    a = 10\n",
    "    b = \"Pwskills\"\n",
    "    c ='k'\n",
    "    d = [1,32,34.45,\"list\",2+4j]\n",
    "    e = {1,2,3,4,\"set\"}\n",
    "    f = {\"name\":\"aditi\",\"rollNo\" :\"23\",\"phoneNo\" :\"234456777\"}\n",
    "   "
   ]
  },
  {
   "cell_type": "code",
   "execution_count": 6,
   "id": "ad9e9fa9-e720-4daf-b917-4d9e4f19cd5a",
   "metadata": {},
   "outputs": [
    {
     "name": "stdout",
     "output_type": "stream",
     "text": [
      "10\n",
      "<class 'str'>\n",
      "100\n",
      "<class 'str'>\n"
     ]
    }
   ],
   "source": [
    "a = 10\n",
    "k = str(a)\n",
    "print(k)\n",
    "print(type(k))\n",
    "t = 100\n",
    "p = str(t)\n",
    "print(p)\n",
    "print(type(p))"
   ]
  },
  {
   "cell_type": "code",
   "execution_count": null,
   "id": "207e00d3-e6fb-4dc8-bbcb-e7fcc00fa410",
   "metadata": {},
   "outputs": [],
   "source": [
    "#open a command line and type the word python followed by the path to your script "
   ]
  },
  {
   "cell_type": "code",
   "execution_count": 9,
   "id": "999ce13b-0fb7-4f05-a3ae-8d1e296df9b4",
   "metadata": {},
   "outputs": [
    {
     "data": {
      "text/plain": [
       "[2, 3]"
      ]
     },
     "execution_count": 9,
     "metadata": {},
     "output_type": "execute_result"
    }
   ],
   "source": [
    "my_list = [1, 2, 3, 4, 5]\n",
    "my_list.pop()\n",
    "my_list.pop()\n",
    "my_list.pop(0)\n",
    "my_list"
   ]
  },
  {
   "cell_type": "code",
   "execution_count": 12,
   "id": "68bd9054-a262-4264-aa47-edd64221da12",
   "metadata": {},
   "outputs": [
    {
     "name": "stdout",
     "output_type": "stream",
     "text": [
      "(3+4j)\n"
     ]
    },
    {
     "data": {
      "text/plain": [
       "(5+2j)"
      ]
     },
     "execution_count": 12,
     "metadata": {},
     "output_type": "execute_result"
    }
   ],
   "source": [
    "#complex number :\n",
    "#    complex number in mathamatics contains real & imaginary part\n",
    "#    imaginary part represented using 'i' notation\n",
    "#   complex number in python is followed by 'j' notation\n",
    "    \n",
    "k = 3+4j\n",
    "m = 5+2j\n",
    "print(k)\n",
    "m"
   ]
  },
  {
   "cell_type": "code",
   "execution_count": 13,
   "id": "f76eb44c-b84b-4604-8da4-c6b3f3dafc54",
   "metadata": {},
   "outputs": [],
   "source": [
    "age = 25"
   ]
  },
  {
   "cell_type": "code",
   "execution_count": 14,
   "id": "d7e2f4f1-de5c-4b11-87a3-039887920715",
   "metadata": {},
   "outputs": [
    {
     "data": {
      "text/plain": [
       "25"
      ]
     },
     "execution_count": 14,
     "metadata": {},
     "output_type": "execute_result"
    }
   ],
   "source": [
    "age"
   ]
  },
  {
   "cell_type": "code",
   "execution_count": 15,
   "id": "6e217c43-0076-4423-bacc-74c86f3bb7ea",
   "metadata": {},
   "outputs": [
    {
     "data": {
      "text/plain": [
       "float"
      ]
     },
     "execution_count": 15,
     "metadata": {},
     "output_type": "execute_result"
    }
   ],
   "source": [
    "price = 9.99\n",
    "type(price)"
   ]
  },
  {
   "cell_type": "code",
   "execution_count": 16,
   "id": "c5a5a1aa-5dfc-4e42-ac27-3b33117da0d0",
   "metadata": {},
   "outputs": [
    {
     "data": {
      "text/plain": [
       "9.99"
      ]
     },
     "execution_count": 16,
     "metadata": {},
     "output_type": "execute_result"
    }
   ],
   "source": [
    "price"
   ]
  },
  {
   "cell_type": "code",
   "execution_count": 17,
   "id": "6707e061-e415-4e3a-888a-8a95c8382040",
   "metadata": {},
   "outputs": [
    {
     "name": "stdout",
     "output_type": "stream",
     "text": [
      "Aditi Kishor Pawar\n"
     ]
    }
   ],
   "source": [
    "name = \"Aditi Kishor Pawar\"\n",
    "print(name)"
   ]
  },
  {
   "cell_type": "code",
   "execution_count": 20,
   "id": "5ab65642-1599-43bd-aaa1-558e0a597a26",
   "metadata": {},
   "outputs": [
    {
     "data": {
      "text/plain": [
       "'World'"
      ]
     },
     "execution_count": 20,
     "metadata": {},
     "output_type": "execute_result"
    }
   ],
   "source": [
    "s = \"Hello, World!\"\n",
    "s[7:12:1]"
   ]
  },
  {
   "cell_type": "code",
   "execution_count": 21,
   "id": "079a8778-de0b-4021-906a-937a7cb86407",
   "metadata": {},
   "outputs": [
    {
     "ename": "SyntaxError",
     "evalue": "invalid syntax. Maybe you meant '==' or ':=' instead of '='? (3299051365.py, line 2)",
     "output_type": "error",
     "traceback": [
      "\u001b[0;36m  Cell \u001b[0;32mIn[21], line 2\u001b[0;36m\u001b[0m\n\u001b[0;31m    if is_student = 1:\u001b[0m\n\u001b[0m       ^\u001b[0m\n\u001b[0;31mSyntaxError\u001b[0m\u001b[0;31m:\u001b[0m invalid syntax. Maybe you meant '==' or ':=' instead of '='?\n"
     ]
    }
   ],
   "source": [
    "is_student = 1\n",
    "if is_student = 1:\n",
    "    print(\"\\ncurrently student\")\n",
    "else:\n",
    "    print(\"\\n Not currently student\")"
   ]
  },
  {
   "cell_type": "code",
   "execution_count": null,
   "id": "e50d054c-20c9-4c3e-a2e2-71dd7cfd1e30",
   "metadata": {},
   "outputs": [],
   "source": []
  }
 ],
 "metadata": {
  "kernelspec": {
   "display_name": "Python 3 (ipykernel)",
   "language": "python",
   "name": "python3"
  },
  "language_info": {
   "codemirror_mode": {
    "name": "ipython",
    "version": 3
   },
   "file_extension": ".py",
   "mimetype": "text/x-python",
   "name": "python",
   "nbconvert_exporter": "python",
   "pygments_lexer": "ipython3",
   "version": "3.10.8"
  }
 },
 "nbformat": 4,
 "nbformat_minor": 5
}
