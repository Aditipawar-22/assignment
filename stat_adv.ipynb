{
 "cells": [
  {
   "cell_type": "code",
   "execution_count": null,
   "id": "d2d69bad-7814-48ac-b5f7-3a9ed315cacb",
   "metadata": {},
   "outputs": [],
   "source": [
    "#Q1. What are the three measures of central tendency?\n",
    "''' 1.Mean\n",
    "    2.Mode\n",
    "    3.Median"
   ]
  },
  {
   "cell_type": "code",
   "execution_count": null,
   "id": "dea68e12-b6a2-481a-a722-ba741b04cbe5",
   "metadata": {},
   "outputs": [],
   "source": [
    "#Q2. What is the difference between the mean, median, and mode? How are they used to measure the\n",
    "#central tendency of a dataset?\n",
    "\n",
    "'''The difference between mean, median and mode are: \n",
    "Mean is the average value of the given observations. \n",
    "Median is the middle value of the given observations. \n",
    "Mode is the most repeated value in the given observation.\n"
   ]
  },
  {
   "cell_type": "code",
   "execution_count": 12,
   "id": "14fda9f4-5e92-4be8-a494-8f91afd9ed9b",
   "metadata": {},
   "outputs": [
    {
     "name": "stdout",
     "output_type": "stream",
     "text": [
      "177.01875\n",
      "177.0\n",
      "177\n"
     ]
    }
   ],
   "source": [
    "#Q3. Measure the three measures of central tendency for the given height data:\n",
    "\n",
    "import numpy as np\n",
    "from scipy import stats\n",
    "a = [178,177,176,177,178.2,178,175,179,180,175,178.9,176.2,177,172.5,178,176.5]\n",
    "print(np.mean(a))\n",
    "print(np.median(a))\n",
    "#mode = maxmimum repeated value\n",
    "mode = 177\n",
    "print(mode)\n",
    "\n",
    "\n"
   ]
  },
  {
   "cell_type": "code",
   "execution_count": 13,
   "id": "a25c2cb3-eb04-4bc4-b1d5-cd1022039d37",
   "metadata": {},
   "outputs": [
    {
     "data": {
      "text/plain": [
       "1.7885814036548633"
      ]
     },
     "execution_count": 13,
     "metadata": {},
     "output_type": "execute_result"
    }
   ],
   "source": [
    "#Q4. Find the standard deviation for the given data:\n",
    "import numpy as np\n",
    "a = [178,177,176,177,178.2,178,175,179,180,175,178.9,176.2,177,172.5,178,176.5]\n",
    "np.std(a)\n"
   ]
  },
  {
   "cell_type": "code",
   "execution_count": null,
   "id": "ce625ae0-8061-4efb-9e91-19b05524c2bc",
   "metadata": {},
   "outputs": [],
   "source": [
    "#Q5. How are measures of dispersion such as range, variance, and standard deviation used to describe\n",
    "#the spread of a dataset? Provide an example.\n",
    "\n",
    "'''Range : max_value - min_value.\n",
    "\n",
    "   variance : Variance is a simple measure of dispersion. Variance measures how far each number in the dataset \n",
    "   from the mean. To compute variance first, calculate the mean and squared deviations from a mean.\n",
    "   \n",
    "   standard deviation : Standard deviation is a squared root of the variance to get original values. \n",
    "   Low standard deviation indicates data points close to mean.\n",
    "   "
   ]
  },
  {
   "cell_type": "code",
   "execution_count": null,
   "id": "df1d5692-0f30-4f2c-abea-b4965b889dda",
   "metadata": {},
   "outputs": [],
   "source": [
    "#Q6. What is a Venn diagram?\n",
    "\n",
    "'''A Venn diagram is an illustration that uses circles to show the relationships among things or finite groups \n",
    "of things\n"
   ]
  },
  {
   "cell_type": "code",
   "execution_count": null,
   "id": "393445bd-5554-488b-8291-b627171544f7",
   "metadata": {},
   "outputs": [],
   "source": [
    "#Q7. For the two given sets A = (2,3,4,5,6,7) & B = (0,2,6,8,10). Find:\n",
    "#(i) A B\n",
    "#(ii) A ⋃ B\n",
    "\n",
    "''' A (intersection) B : (2,6)\n",
    "    A U b : (2,3,4,5,6,7,0,8,10)"
   ]
  },
  {
   "cell_type": "code",
   "execution_count": null,
   "id": "e7fdf8c3-e457-490e-9181-3e4cb78b0ab0",
   "metadata": {},
   "outputs": [],
   "source": [
    "#Q8. What do you understand about skewness in data?\n",
    "\n",
    "'''Skewness is a measure of the asymmetry of a distribution. A distribution is asymmetrical when its left and\n",
    "right side are not mirror images. You might want to calculate the skewness of a distribution to: Describe the \n",
    "distribution of a variable alongside other descriptive statistics\n"
   ]
  },
  {
   "cell_type": "code",
   "execution_count": null,
   "id": "0576850c-02cc-4314-bf9a-d1cd20794c06",
   "metadata": {},
   "outputs": [],
   "source": [
    "#Q9. If a data is right skewed then what will be the position of median with respect to mean?\n",
    "\n",
    "'''If the distribution of data is skewed to the right, the mode is often less than the median, which is less\n",
    "than the mean."
   ]
  },
  {
   "cell_type": "code",
   "execution_count": null,
   "id": "8620aeff-fdd4-4ab0-8cac-f918ca1e077f",
   "metadata": {},
   "outputs": [],
   "source": [
    "#Q10. Explain the difference between covariance and correlation. How are these measures used in\n",
    "#statistical analysis?\n",
    "\n",
    "'''Covariance is an indicator of how two random variables change concerning each other. Correlation, on the \n",
    "other hand, measures the strength of this relationship. The correlation.\n",
    "It is calculated as (x(i)-mean(x))*(y(i)-mean(y)) / ((x(i)-mean(x))2 * (y(i)-mean(y))2.\n",
    "\n"
   ]
  },
  {
   "cell_type": "code",
   "execution_count": null,
   "id": "356fb25a-a839-4237-a589-1f1335bffae8",
   "metadata": {},
   "outputs": [],
   "source": [
    "#Q11. What is the formula for calculating the sample mean? Provide an example calculation for a\n",
    "#dataset.\n",
    "\n",
    "'''The sample mean formula is: x̄= (xi)/n .'''\n",
    " \n",
    "import seaborn as sns\n",
    "iris = sns.load_dataFrame(\"iris)\n",
    "iris"
   ]
  },
  {
   "cell_type": "code",
   "execution_count": null,
   "id": "b62e5c52-7bff-485e-9437-7337db3acccf",
   "metadata": {},
   "outputs": [],
   "source": []
  }
 ],
 "metadata": {
  "kernelspec": {
   "display_name": "Python 3 (ipykernel)",
   "language": "python",
   "name": "python3"
  },
  "language_info": {
   "codemirror_mode": {
    "name": "ipython",
    "version": 3
   },
   "file_extension": ".py",
   "mimetype": "text/x-python",
   "name": "python",
   "nbconvert_exporter": "python",
   "pygments_lexer": "ipython3",
   "version": "3.10.8"
  }
 },
 "nbformat": 4,
 "nbformat_minor": 5
}
