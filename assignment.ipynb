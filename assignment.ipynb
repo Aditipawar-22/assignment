{
 "cells": [
  {
   "cell_type": "code",
   "execution_count": 2,
   "id": "74ecf439-45eb-4d69-8e08-9428164e5ab9",
   "metadata": {},
   "outputs": [
    {
     "name": "stdout",
     "output_type": "stream",
     "text": [
      "[('Virat Kohli', 24936), ('Jack Kallis', 25534), ('Ricky Ponting', 27483), ('Sachin Tendulkar', 34357)]\n"
     ]
    }
   ],
   "source": [
    "data = [('Sachin Tendulkar', 34357), ('Ricky Ponting', 27483), ('Jack Kallis', 25534), ('Virat Kohli', 24936)]\n",
    "\n",
    "sorted_data = sorted(data, key=lambda x: x[1])\n",
    "\n",
    "print(sorted_data)"
   ]
  },
  {
   "cell_type": "code",
   "execution_count": 3,
   "id": "e5b49a2d-86ae-4c4b-9106-f1e905727827",
   "metadata": {},
   "outputs": [],
   "source": [
    "l = [1, 2, 3, 4, 5, 6, 7, 8, 9, 10]\n",
    "a = list(map(lambda l :l*l,l))"
   ]
  },
  {
   "cell_type": "code",
   "execution_count": 4,
   "id": "f9126c41-cd5e-4b8e-a595-034f5c978ccb",
   "metadata": {},
   "outputs": [
    {
     "name": "stdout",
     "output_type": "stream",
     "text": [
      "[1, 4, 9, 16, 25, 36, 49, 64, 81, 100]\n"
     ]
    }
   ],
   "source": [
    "print(a)"
   ]
  },
  {
   "cell_type": "code",
   "execution_count": 5,
   "id": "95459dcc-83e1-4b3b-8c82-daa6b3e58689",
   "metadata": {},
   "outputs": [],
   "source": [
    "k = [1, 2, 3, 4, 5, 6, 7, 8, 9, 10]"
   ]
  },
  {
   "cell_type": "code",
   "execution_count": 17,
   "id": "1ae64c34-b436-4e2a-86bc-24e4090b6d36",
   "metadata": {},
   "outputs": [],
   "source": [
    "a = tuple(map(lambda k:str(k),k))"
   ]
  },
  {
   "cell_type": "code",
   "execution_count": 18,
   "id": "fff2c74d-424d-4d39-af04-971cafdd7cf0",
   "metadata": {},
   "outputs": [
    {
     "name": "stdout",
     "output_type": "stream",
     "text": [
      "('1', '2', '3', '4', '5', '6', '7', '8', '9', '10')\n"
     ]
    }
   ],
   "source": [
    "print(a)"
   ]
  },
  {
   "cell_type": "code",
   "execution_count": 19,
   "id": "bf69dfc9-778a-417c-8661-1c71443cba6a",
   "metadata": {},
   "outputs": [
    {
     "name": "stdout",
     "output_type": "stream",
     "text": [
      "15511210043330985984000000\n"
     ]
    }
   ],
   "source": [
    "from functools import reduce\n",
    "\n",
    "number_list = list(range(1, 26))\n",
    "product = reduce(lambda x, y: x * y, number_list)\n",
    "print(product)"
   ]
  },
  {
   "cell_type": "code",
   "execution_count": 20,
   "id": "4a4bc12d-f5f7-4b2b-8b5e-701b8a754766",
   "metadata": {},
   "outputs": [
    {
     "name": "stdout",
     "output_type": "stream",
     "text": [
      "[6, 60, 90, 120]\n"
     ]
    }
   ],
   "source": [
    "given_list = [2, 3, 6, 9, 27, 60, 90, 120, 55, 46]\n",
    "filtered_list = list(filter(lambda x: x % 2 == 0 and x % 3 == 0, given_list))\n",
    "print(filtered_list)"
   ]
  },
  {
   "cell_type": "code",
   "execution_count": null,
   "id": "c6dbde84-8023-45cd-8dba-2c4a3eb150a0",
   "metadata": {},
   "outputs": [],
   "source": []
  }
 ],
 "metadata": {
  "kernelspec": {
   "display_name": "Python 3 (ipykernel)",
   "language": "python",
   "name": "python3"
  },
  "language_info": {
   "codemirror_mode": {
    "name": "ipython",
    "version": 3
   },
   "file_extension": ".py",
   "mimetype": "text/x-python",
   "name": "python",
   "nbconvert_exporter": "python",
   "pygments_lexer": "ipython3",
   "version": "3.10.8"
  }
 },
 "nbformat": 4,
 "nbformat_minor": 5
}
