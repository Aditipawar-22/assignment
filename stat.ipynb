{
 "cells": [
  {
   "cell_type": "code",
   "execution_count": null,
   "id": "70d1e1d6-d37b-4ab6-a1e2-7294a7c3b259",
   "metadata": {},
   "outputs": [],
   "source": [
    "#Q1. What is Statistics?\n",
    "\n",
    "'''Statistics is the study of the collection, analysis, interpretation, presentation, and organization of data.\n",
    "In other words, it is a mathematical discipline to collect, summarize data. Also, we can say that statistics is a\n",
    "branch of applied mathematics.\n"
   ]
  },
  {
   "cell_type": "code",
   "execution_count": null,
   "id": "8af8170a-d0b3-4429-899a-9c6d68ff6c79",
   "metadata": {},
   "outputs": [],
   "source": [
    "#Q2. Define the different types of statistics and give an example of when each type might be used.\n",
    "\n",
    "'''The two major areas of statistics are known as descriptive statistics, which describes the properties of sample\n",
    "and population data, and inferential statistics, which uses those properties to test hypotheses and draw \n",
    "conclusions. \n",
    "\n",
    "\n",
    "\n"
   ]
  },
  {
   "cell_type": "code",
   "execution_count": null,
   "id": "8837b789-b05e-47eb-90e2-18f7370decf6",
   "metadata": {},
   "outputs": [],
   "source": [
    "#Q3. What are the different types of data and how do they differ from each other? Provide an example of\n",
    "#each type of data.\n",
    "\n",
    "'''1.  Qualitative data\n",
    "   2.  Quantitative data\n",
    "   \n",
    "   Can be shown in numbers and variables like ratio, percentage, and more.\t\n",
    "   Example: 100%, 1:3, 123\n",
    "   \n",
    "   Could be about the behavioral attributes of a person, or thing.\n",
    "   Example: loud behavior, fair skin, soft quality, and more.\n",
    "   \n",
    "\n"
   ]
  },
  {
   "cell_type": "code",
   "execution_count": null,
   "id": "e89ca4f8-b0c8-41db-8631-5a5f4364b596",
   "metadata": {},
   "outputs": [],
   "source": [
    "#Q4. Categorise the following datasets with respect to quantitative and qualitative data types:\n",
    "\n",
    "#(i) Grading in exam: A+, A, B+, B, C+, C, D, E\n",
    "Qualitative data\n",
    " \n",
    "#(ii) Colour of mangoes: yellow, green, orange, red\n",
    "Quantitative data\n",
    "\n",
    "#(iii) Height data of a class: [178.9, 179, 179.5, 176, 177.2, 178.3, 175.8,...]\n",
    "Qualitative data\n",
    "\n",
    "#(iv) Number of mangoes exported by a farm: [500, 600, 478, 672, ...]\n",
    "Qualitative data\n",
    "\n",
    "\n",
    "\n"
   ]
  },
  {
   "cell_type": "code",
   "execution_count": null,
   "id": "77a0b356-fe95-4e9f-8e47-b0456486692a",
   "metadata": {},
   "outputs": [],
   "source": [
    "#Q5. Explain the concept of levels of measurement and give an example of a variable for each level.\n",
    "'''1.Nominal \n",
    "   2.Ordinal\n",
    "   3.Interval\n",
    "   4.Ratio\n",
    "   \n",
    "   Nominal -> A variable measured on a \"nominal\" scale is a variable that does not really have any evaluative \n",
    "   distinction. One value is really not any greater than another. A good example of a nominal variable is gender. \n",
    "\n",
    "   Ordinal-> roduct B, and therefore A receives a value of 1 and B receives a value of 2. Another example might be\n",
    "   rating your job satisfaction on a scale from 1 to 10, with 10 representing complete satisfaction. With ordinal \n",
    "   scales, we only know that 2 is better than 1 or 10 is better than 9; we do not know by how much. It may vary. \n",
    "   The distance between 1 and 2 maybe shorter than between 9 and 10.\n",
    "   \n",
    "   Interval-> A variable measured on an interval scale gives information about more or betterness as ordinal scales\n",
    "   do, but interval variables have an equal distance between each value. The distance between 1 and 2 is equal to \n",
    "   the distance between 9 and 10. Temperature using Celsius or Fahrenheit is a good example, there is the exact \n",
    "   same difference between 100 degrees and 90 as there is between 42 and 32.\n",
    "   \n",
    "   Ratio -> Something measured on a ratio scale has the same properties that an interval scale has except, with a \n",
    "   ratio scaling, there is an absolute zero point. Temperature measured in Kelvin is an example. There is no value\n",
    "   possible below 0 degrees Kelvin, it is absolute zero. Weight is another example, 0 lbs. is a meaningful absence\n",
    "   of weight. Your bank account balance is another. Although you can have a negative or positive account balance, \n",
    "   there is a definite and nonarbitrary meaning of an account balance of 0.\n",
    "\n"
   ]
  },
  {
   "cell_type": "code",
   "execution_count": null,
   "id": "90606778-7742-474c-ba77-59f9672f5c1b",
   "metadata": {},
   "outputs": [],
   "source": [
    "#Q7. How nominal data type is different from ordinal data type.\n",
    "'''Nominal: Used to categorize data into mutually exclusive categories or groups. Ordinal: Used to measure \n",
    "variables in a natural order, such as rating or ranking"
   ]
  },
  {
   "cell_type": "code",
   "execution_count": null,
   "id": "771a928a-058b-4862-bb3a-bdb71ce3538e",
   "metadata": {},
   "outputs": [],
   "source": [
    "#Q8. Which type of plot can be used to display data in terms of range?\n",
    "Scatterplots"
   ]
  },
  {
   "cell_type": "code",
   "execution_count": null,
   "id": "95351c66-4b6c-4902-8385-465bb725cbcf",
   "metadata": {},
   "outputs": [],
   "source": []
  },
  {
   "cell_type": "code",
   "execution_count": null,
   "id": "5ad25de5-2224-4969-8a49-1a2e25f8a84f",
   "metadata": {},
   "outputs": [],
   "source": []
  },
  {
   "cell_type": "code",
   "execution_count": null,
   "id": "7fbe5af3-2b1f-4ca3-910a-6bafd090ab61",
   "metadata": {},
   "outputs": [],
   "source": []
  }
 ],
 "metadata": {
  "kernelspec": {
   "display_name": "Python 3 (ipykernel)",
   "language": "python",
   "name": "python3"
  },
  "language_info": {
   "codemirror_mode": {
    "name": "ipython",
    "version": 3
   },
   "file_extension": ".py",
   "mimetype": "text/x-python",
   "name": "python",
   "nbconvert_exporter": "python",
   "pygments_lexer": "ipython3",
   "version": "3.10.8"
  }
 },
 "nbformat": 4,
 "nbformat_minor": 5
}
