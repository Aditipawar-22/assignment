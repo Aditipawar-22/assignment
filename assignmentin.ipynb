{
 "cells": [
  {
   "cell_type": "code",
   "execution_count": 2,
   "id": "7d7b83a3-be13-4edf-a464-a368e577df4d",
   "metadata": {},
   "outputs": [],
   "source": [
    "#Create a vehicle class with an init method having instance variables as name_of_vehicle, max_speed\n",
    "#and average_of_vehicle."
   ]
  },
  {
   "cell_type": "code",
   "execution_count": 7,
   "id": "54e1e69f-b61a-4406-ab1a-f1a3c7187c94",
   "metadata": {},
   "outputs": [],
   "source": [
    "class vehicle:\n",
    "    \n",
    "    \n",
    "    def __init__(self ,name_of_vehicle,max_speed,average_of_vehicle):\n",
    "        \n",
    "        self.name_of_vehicle=name_of_vehicle\n",
    "        self.max_speed=max_speed\n",
    "        self.average_of_vehicle=average_of_vehicle        "
   ]
  },
  {
   "cell_type": "code",
   "execution_count": 8,
   "id": "565ea18a-3095-4c4a-8387-173666fc3766",
   "metadata": {},
   "outputs": [],
   "source": [
    "d = vehicle(\"Creta\",20,18)"
   ]
  },
  {
   "cell_type": "code",
   "execution_count": 11,
   "id": "eb80a55e-9630-425d-a1d3-ecde9269c78d",
   "metadata": {},
   "outputs": [
    {
     "name": "stdout",
     "output_type": "stream",
     "text": [
      "Creta\n",
      "20\n",
      "18\n"
     ]
    }
   ],
   "source": [
    "print(d.name_of_vehicle)\n",
    "print(d.max_speed)\n",
    "print(d.average_of_vehicle)"
   ]
  },
  {
   "cell_type": "code",
   "execution_count": null,
   "id": "af370037-a62d-4bd7-b84b-04ff932568f1",
   "metadata": {},
   "outputs": [],
   "source": [
    "#Create a child class car from the vehicle class created in Que 1, which will inherit the vehicle class.\n",
    "#Create a method named seating_capacity which takes capacity as an argument and returns the name of\n",
    "#the vehicle and its seating capacity."
   ]
  },
  {
   "cell_type": "code",
   "execution_count": 9,
   "id": "eddf904d-33fe-4903-9c4f-8060b9bb66d8",
   "metadata": {},
   "outputs": [],
   "source": [
    "class vehicle:\n",
    "    \n",
    "    \n",
    "    def __init__(self ,name_of_vehicle,max_speed,average_of_vehicle):\n",
    "        \n",
    "        self.name_of_vehicle=name_of_vehicle\n",
    "        self.max_speed=max_speed\n",
    "        self.average_of_vehicle=average_of_vehicle  \n",
    "        \n",
    "    def returns1():\n",
    "        return (name_of_vehicle,max_speed,average_of_vehicle, capacity)\n",
    "        \n",
    "        "
   ]
  },
  {
   "cell_type": "code",
   "execution_count": 10,
   "id": "9ef667b2-94f7-4290-b433-40ab566cecc2",
   "metadata": {},
   "outputs": [],
   "source": [
    "class car(vehicle):\n",
    "    \n",
    "    def method1(self,capacity):\n",
    "        \n",
    "        return (self.name_of_vehicle,capacity)\n",
    "    \n",
    "    \n",
    "    "
   ]
  },
  {
   "cell_type": "code",
   "execution_count": 11,
   "id": "3ec9d36d-7421-4e5d-b286-bea8987112ca",
   "metadata": {},
   "outputs": [],
   "source": [
    "class_obj = car(\"bus\",100,23)"
   ]
  },
  {
   "cell_type": "code",
   "execution_count": 12,
   "id": "f9dd68fd-c2dc-4195-b511-6582fcc9dbb5",
   "metadata": {},
   "outputs": [
    {
     "data": {
      "text/plain": [
       "('bus', 2)"
      ]
     },
     "execution_count": 12,
     "metadata": {},
     "output_type": "execute_result"
    }
   ],
   "source": [
    "class_obj.method1(2)"
   ]
  },
  {
   "cell_type": "code",
   "execution_count": null,
   "id": "1bf30a78-26ad-4872-ab8f-8bf944b2ba1a",
   "metadata": {},
   "outputs": [],
   "source": [
    "#What is multiple inheritance? Write a python code to demonstrate multiple inheritance."
   ]
  },
  {
   "cell_type": "code",
   "execution_count": null,
   "id": "24cf5aff-884a-43ea-bbac-ef480870c8cc",
   "metadata": {},
   "outputs": [],
   "source": [
    "#In the multiple inheritance one class access the property of above class\n",
    "#eg.class1:\n",
    "#      |\n",
    "#   class2:\n",
    "#      |\n",
    "#   class3\n",
    "#class2 will acess the property of class1 class 3 will acess the property of class2 and class 1"
   ]
  },
  {
   "cell_type": "code",
   "execution_count": 16,
   "id": "d1cd84cb-01af-4113-8bed-2526a015bdc2",
   "metadata": {},
   "outputs": [],
   "source": [
    "class type1:\n",
    "    \n",
    "    def test1():\n",
    "        return \"This is base class\"\n",
    "    "
   ]
  },
  {
   "cell_type": "code",
   "execution_count": 28,
   "id": "71657bac-b178-4189-9839-9b976d6ae76e",
   "metadata": {},
   "outputs": [],
   "source": [
    "class type2(type1):\n",
    "    def test2():\n",
    "        return \"This is derived class\""
   ]
  },
  {
   "cell_type": "code",
   "execution_count": 29,
   "id": "6011dc35-711a-4637-91e3-657e3b4e4c4b",
   "metadata": {},
   "outputs": [],
   "source": [
    "class type3(type2):\n",
    "    pass"
   ]
  },
  {
   "cell_type": "code",
   "execution_count": 30,
   "id": "565de03b-fb9c-4077-9709-700569f33f6d",
   "metadata": {},
   "outputs": [],
   "source": [
    "class_obj = type3"
   ]
  },
  {
   "cell_type": "code",
   "execution_count": 31,
   "id": "4a8a6fca-1db8-424e-b049-53e2f061ba4d",
   "metadata": {},
   "outputs": [
    {
     "data": {
      "text/plain": [
       "'This is base class'"
      ]
     },
     "execution_count": 31,
     "metadata": {},
     "output_type": "execute_result"
    }
   ],
   "source": [
    "class_obj.test1()"
   ]
  },
  {
   "cell_type": "code",
   "execution_count": 32,
   "id": "d9628c8b-a3cc-425b-8d53-287ee433694b",
   "metadata": {},
   "outputs": [
    {
     "data": {
      "text/plain": [
       "'This is derived class'"
      ]
     },
     "execution_count": 32,
     "metadata": {},
     "output_type": "execute_result"
    }
   ],
   "source": [
    "class_obj.test2()"
   ]
  },
  {
   "cell_type": "code",
   "execution_count": 1,
   "id": "1d250e69-cd32-48ad-a182-f8607d017e80",
   "metadata": {},
   "outputs": [],
   "source": [
    "#What are getter and setter in python? Create a class and create a getter and a setter method in this\n",
    "#class."
   ]
  },
  {
   "cell_type": "code",
   "execution_count": null,
   "id": "11680243-91f7-403c-be0b-314fe78671d0",
   "metadata": {},
   "outputs": [],
   "source": [
    "#getter and setter are the decoraters in the python they are used to access the private variables in the claass\n",
    "#by using the functions we can modify or set the private variables of the class"
   ]
  },
  {
   "cell_type": "code",
   "execution_count": null,
   "id": "772a893a-1827-46bf-abdc-bed9e9935daf",
   "metadata": {},
   "outputs": [],
   "source": [
    "class pwskills :\n",
    "    \n",
    "    def __init__(self , course_price , coruse_name):\n",
    "        \n",
    "        self.__course_price = course_price\n",
    "        self.course_name = coruse_name\n",
    "        \n",
    "    @property\n",
    "    def course_price_access(self) : \n",
    "        return self.__course_price\n",
    "    \n",
    "    @course_price_access.setter\n",
    "    def course_price_set(self , price ):\n",
    "        if price <= 3500:\n",
    "            pass\n",
    "        else :\n",
    "            self.__course_price = price\n",
    "            \n",
    "    @course_price_access.deleter\n",
    "    def delete_course_price(self) : \n",
    "        del self.__course_price\n",
    "    "
   ]
  },
  {
   "cell_type": "code",
   "execution_count": null,
   "id": "744ee2a0-3447-4cac-83e4-1829f5b9431f",
   "metadata": {},
   "outputs": [],
   "source": []
  },
  {
   "cell_type": "code",
   "execution_count": null,
   "id": "c7d5e198-8afe-4f07-9818-57469bd7e89e",
   "metadata": {},
   "outputs": [],
   "source": []
  },
  {
   "cell_type": "code",
   "execution_count": null,
   "id": "bea8e3a7-09f4-4bcf-b8d4-f0a9dcfe33af",
   "metadata": {},
   "outputs": [],
   "source": []
  }
 ],
 "metadata": {
  "kernelspec": {
   "display_name": "Python 3 (ipykernel)",
   "language": "python",
   "name": "python3"
  },
  "language_info": {
   "codemirror_mode": {
    "name": "ipython",
    "version": 3
   },
   "file_extension": ".py",
   "mimetype": "text/x-python",
   "name": "python",
   "nbconvert_exporter": "python",
   "pygments_lexer": "ipython3",
   "version": "3.10.8"
  }
 },
 "nbformat": 4,
 "nbformat_minor": 5
}
