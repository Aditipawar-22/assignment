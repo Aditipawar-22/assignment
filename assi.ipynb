{
 "cells": [
  {
   "cell_type": "code",
   "execution_count": null,
   "id": "6339beb2-c426-43f8-bb0d-983ebea1303e",
   "metadata": {},
   "outputs": [],
   "source": [
    "# def keyword is used to create a function "
   ]
  },
  {
   "cell_type": "code",
   "execution_count": 12,
   "id": "cc4626dc-da43-46d0-b5ba-ce1c03a030b0",
   "metadata": {},
   "outputs": [],
   "source": [
    "def odd():\n",
    "    l = []\n",
    "    for i in range(0,25):\n",
    "        if i%2!=0:\n",
    "            l.append(i)\n",
    "    return l"
   ]
  },
  {
   "cell_type": "code",
   "execution_count": 13,
   "id": "b14afbe8-4c27-4f1d-b15b-99027125161c",
   "metadata": {},
   "outputs": [
    {
     "data": {
      "text/plain": [
       "[1, 3, 5, 7, 9, 11, 13, 15, 17, 19, 21, 23]"
      ]
     },
     "execution_count": 13,
     "metadata": {},
     "output_type": "execute_result"
    }
   ],
   "source": [
    "odd()"
   ]
  },
  {
   "cell_type": "code",
   "execution_count": 14,
   "id": "c1a08333-2193-4c6e-89c5-377875e9cea8",
   "metadata": {},
   "outputs": [],
   "source": [
    "# *args is used for the non dictonary data types while the **kwargs is used for the dictonary data types \n",
    "def test1(*args):\n",
    "    return args\n",
    "\n",
    "def test2(**kwargs):\n",
    "    return kwargs"
   ]
  },
  {
   "cell_type": "code",
   "execution_count": 24,
   "id": "63ea778a-133c-4698-a706-83891db061ae",
   "metadata": {},
   "outputs": [
    {
     "data": {
      "text/plain": [
       "('Aditi', 53, 23.45)"
      ]
     },
     "execution_count": 24,
     "metadata": {},
     "output_type": "execute_result"
    }
   ],
   "source": [
    "test1(\"Aditi\",53,23.45)"
   ]
  },
  {
   "cell_type": "code",
   "execution_count": 21,
   "id": "cc2d9a0a-d9a4-48c4-be32-e22d8d2256b2",
   "metadata": {},
   "outputs": [
    {
     "data": {
      "text/plain": [
       "dict"
      ]
     },
     "execution_count": 21,
     "metadata": {},
     "output_type": "execute_result"
    }
   ],
   "source": [
    "type(test2())"
   ]
  },
  {
   "cell_type": "code",
   "execution_count": 22,
   "id": "8c375248-a5a9-4c51-82f9-a90a05f2142c",
   "metadata": {},
   "outputs": [
    {
     "data": {
      "text/plain": [
       "tuple"
      ]
     },
     "execution_count": 22,
     "metadata": {},
     "output_type": "execute_result"
    }
   ],
   "source": [
    "type(test1())"
   ]
  },
  {
   "cell_type": "code",
   "execution_count": null,
   "id": "a3213a33-3e5e-4c4c-a750-96106f365c16",
   "metadata": {},
   "outputs": [],
   "source": [
    "test2(a=\"Aditi\",b=53,c=\"sangli\")"
   ]
  },
  {
   "cell_type": "code",
   "execution_count": null,
   "id": "f36094c5-5370-4eec-8cda-027fdac43410",
   "metadata": {},
   "outputs": [],
   "source": [
    "def test2(**kwargs):\n",
    "    return kwargs"
   ]
  },
  {
   "cell_type": "code",
   "execution_count": 27,
   "id": "c68360f8-55e5-4239-98a1-f41f5ce4bcc0",
   "metadata": {},
   "outputs": [
    {
     "data": {
      "text/plain": [
       "{'a': 'Aditi', 'b': 53, 'c': 'sangli'}"
      ]
     },
     "execution_count": 27,
     "metadata": {},
     "output_type": "execute_result"
    }
   ],
   "source": [
    "test2(a=\"Aditi\",b=53,c=\"sangli\")"
   ]
  },
  {
   "cell_type": "code",
   "execution_count": 28,
   "id": "44b8369f-2c2a-413d-9249-ce1130881895",
   "metadata": {},
   "outputs": [],
   "source": [
    "#the iterable data type in python is iterator \n",
    "#variable_name =iter()\n",
    "#next(variable_name)"
   ]
  },
  {
   "cell_type": "code",
   "execution_count": 29,
   "id": "dd8fc423-0b84-496d-a827-a1d0c4eead63",
   "metadata": {},
   "outputs": [],
   "source": [
    "my_list = [2, 4, 6, 8, 10, 12, 14,16, 18, 20]\n"
   ]
  },
  {
   "cell_type": "code",
   "execution_count": 30,
   "id": "ee40ba42-4c63-4711-a6e0-b69087e8ab77",
   "metadata": {},
   "outputs": [],
   "source": [
    "s1 = iter(my_list)"
   ]
  },
  {
   "cell_type": "code",
   "execution_count": 31,
   "id": "414ae0a8-4f7b-4df2-8c6e-755712ba59ae",
   "metadata": {},
   "outputs": [
    {
     "data": {
      "text/plain": [
       "2"
      ]
     },
     "execution_count": 31,
     "metadata": {},
     "output_type": "execute_result"
    }
   ],
   "source": [
    "next(s1)"
   ]
  },
  {
   "cell_type": "code",
   "execution_count": 32,
   "id": "6d21df2a-9729-446a-983a-05eda8523186",
   "metadata": {},
   "outputs": [
    {
     "data": {
      "text/plain": [
       "4"
      ]
     },
     "execution_count": 32,
     "metadata": {},
     "output_type": "execute_result"
    }
   ],
   "source": [
    "next(s1)"
   ]
  },
  {
   "cell_type": "code",
   "execution_count": 33,
   "id": "8ea54c47-0e8f-4393-9f65-60701cd277d7",
   "metadata": {},
   "outputs": [
    {
     "data": {
      "text/plain": [
       "6"
      ]
     },
     "execution_count": 33,
     "metadata": {},
     "output_type": "execute_result"
    }
   ],
   "source": [
    "next(s1)"
   ]
  },
  {
   "cell_type": "code",
   "execution_count": 34,
   "id": "28c2d40e-1882-4ab0-a586-0019da1d7802",
   "metadata": {},
   "outputs": [
    {
     "data": {
      "text/plain": [
       "8"
      ]
     },
     "execution_count": 34,
     "metadata": {},
     "output_type": "execute_result"
    }
   ],
   "source": [
    "next(s1)"
   ]
  },
  {
   "cell_type": "code",
   "execution_count": 35,
   "id": "75ac80fb-c942-4f95-9c69-719306115598",
   "metadata": {},
   "outputs": [
    {
     "data": {
      "text/plain": [
       "10"
      ]
     },
     "execution_count": 35,
     "metadata": {},
     "output_type": "execute_result"
    }
   ],
   "source": [
    "next(s1)"
   ]
  },
  {
   "cell_type": "code",
   "execution_count": 38,
   "id": "ff466778-35e0-41c1-b3f6-3e2849b9fdca",
   "metadata": {},
   "outputs": [],
   "source": [
    "#allows you to declare a function that behaves like an iterator, providing a faster and easier way to create\n",
    "#iterators\n",
    "#yield keyword is used for the iteration\n"
   ]
  },
  {
   "cell_type": "code",
   "execution_count": 39,
   "id": "b832ccc6-3fe0-4739-84a2-e0d1d7903f47",
   "metadata": {},
   "outputs": [],
   "source": [
    "def count_test(n):\n",
    "    count = 1 \n",
    "    while count <= n :\n",
    "        yield count\n",
    "        count = count + 1"
   ]
  },
  {
   "cell_type": "code",
   "execution_count": 46,
   "id": "2a7d71eb-55ad-4e29-aa6a-e1aec74a44e4",
   "metadata": {},
   "outputs": [],
   "source": [
    "a = count_test(10)"
   ]
  },
  {
   "cell_type": "code",
   "execution_count": 48,
   "id": "62b7651d-6eb9-4f02-b955-1fe76c2ea5f8",
   "metadata": {},
   "outputs": [
    {
     "name": "stdout",
     "output_type": "stream",
     "text": [
      "1\n",
      "2\n",
      "3\n",
      "4\n",
      "5\n",
      "6\n",
      "7\n",
      "8\n",
      "9\n",
      "10\n"
     ]
    }
   ],
   "source": [
    "for i in a:\n",
    "    print(i)"
   ]
  },
  {
   "cell_type": "code",
   "execution_count": 92,
   "id": "dc37f889-9586-451a-a576-6d17e77fa4db",
   "metadata": {},
   "outputs": [],
   "source": [
    "def test_fib():\n",
    "    a,b = 0,1\n",
    "    while True:\n",
    "        yield a \n",
    "        a,b = b , a+b"
   ]
  },
  {
   "cell_type": "code",
   "execution_count": 98,
   "id": "1ae5dc2b-6781-450a-8136-d8f775d9eb84",
   "metadata": {},
   "outputs": [],
   "source": [
    "fib = test_fib()"
   ]
  },
  {
   "cell_type": "code",
   "execution_count": 99,
   "id": "3a37167d-baf3-47bd-b601-ebb2ed0ce6c9",
   "metadata": {},
   "outputs": [
    {
     "name": "stdout",
     "output_type": "stream",
     "text": [
      "0\n",
      "1\n",
      "1\n",
      "2\n",
      "3\n",
      "5\n",
      "8\n",
      "13\n",
      "21\n",
      "34\n"
     ]
    }
   ],
   "source": [
    "for i in range(10):\n",
    "    print(next(fib))"
   ]
  },
  {
   "cell_type": "code",
   "execution_count": 26,
   "id": "95616e78-3ab5-4f0b-83a7-db4dfddfc7a6",
   "metadata": {},
   "outputs": [
    {
     "name": "stdout",
     "output_type": "stream",
     "text": [
      "2\n",
      "3\n",
      "5\n",
      "7\n",
      "11\n",
      "13\n",
      "17\n",
      "19\n",
      "23\n",
      "29\n",
      "31\n",
      "37\n",
      "41\n",
      "43\n",
      "47\n",
      "53\n",
      "59\n",
      "61\n",
      "67\n",
      "71\n"
     ]
    }
   ],
   "source": [
    "def prime_generator():\n",
    "    primes = []\n",
    "    num = 2\n",
    "\n",
    "    while num < 1000:\n",
    "        is_prime = True\n",
    "        for prime in primes:\n",
    "            if num % prime == 0:\n",
    "                is_prime = False\n",
    "                break\n",
    "\n",
    "        if is_prime:\n",
    "            primes.append(num)\n",
    "            yield num\n",
    "\n",
    "        num += 1\n",
    "\n",
    "\n",
    "prime_gen = prime_generator()\n",
    "\n",
    "\n",
    "for _ in range(20):\n",
    "    prime = next(prime_gen)\n",
    "    print(prime)\n"
   ]
  },
  {
   "cell_type": "code",
   "execution_count": null,
   "id": "2115e162-28ba-452d-b7c8-c0b424de56cf",
   "metadata": {},
   "outputs": [],
   "source": [
    "def feb():\n",
    "    a,b=0,1\n",
    "    while True:\n",
    "        yield a\n",
    "        a,b = b,a+b\n",
    "        \n",
    "fib = feb()\n",
    "\n",
    "for i in range(10):\n",
    "    print(fib)\n",
    "  "
   ]
  },
  {
   "cell_type": "code",
   "execution_count": null,
   "id": "8a3c042e-a4ff-4f1f-9ceb-d14d83fdac96",
   "metadata": {},
   "outputs": [],
   "source": [
    "l = \"pwskills\""
   ]
  },
  {
   "cell_type": "code",
   "execution_count": null,
   "id": "939ff378-e93b-4fcf-848d-03dc8cfa102a",
   "metadata": {},
   "outputs": [],
   "source": [
    "l1 = []\n",
    "for i in l:\n",
    "    l1.append(i)\n",
    "return l1"
   ]
  },
  {
   "cell_type": "code",
   "execution_count": null,
   "id": "950f72e8-3619-4dab-b7cd-46dfa382d129",
   "metadata": {},
   "outputs": [],
   "source": []
  },
  {
   "cell_type": "code",
   "execution_count": null,
   "id": "58d26f75-5612-4bc8-8635-f82b07411851",
   "metadata": {},
   "outputs": [],
   "source": []
  }
 ],
 "metadata": {
  "kernelspec": {
   "display_name": "Python 3 (ipykernel)",
   "language": "python",
   "name": "python3"
  },
  "language_info": {
   "codemirror_mode": {
    "name": "ipython",
    "version": 3
   },
   "file_extension": ".py",
   "mimetype": "text/x-python",
   "name": "python",
   "nbconvert_exporter": "python",
   "pygments_lexer": "ipython3",
   "version": "3.10.8"
  }
 },
 "nbformat": 4,
 "nbformat_minor": 5
}
